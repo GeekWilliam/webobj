{
 "cells": [
  {
   "cell_type": "markdown",
   "metadata": {},
   "source": [
    "mongodb数据库（数据库workbook-数据表sheet1-行列row/column-cell）-可以直接读写json格式"
   ]
  },
  {
   "cell_type": "code",
   "execution_count": 2,
   "metadata": {},
   "outputs": [],
   "source": [
    "from pymongo import MongoClient"
   ]
  },
  {
   "cell_type": "code",
   "execution_count": 3,
   "metadata": {},
   "outputs": [],
   "source": [
    "client = MongoClient()#启动数据库"
   ]
  },
  {
   "cell_type": "code",
   "execution_count": 4,
   "metadata": {},
   "outputs": [
    {
     "data": {
      "text/plain": [
       "['admin', 'bijidata', 'config', 'local']"
      ]
     },
     "execution_count": 4,
     "metadata": {},
     "output_type": "execute_result"
    }
   ],
   "source": [
    "client.list_database_names()#获取数据库list"
   ]
  },
  {
   "cell_type": "code",
   "execution_count": 5,
   "metadata": {},
   "outputs": [
    {
     "data": {
      "text/plain": [
       "Database(MongoClient(host=['localhost:27017'], document_class=dict, tz_aware=False, connect=True), 'bijidata')"
      ]
     },
     "execution_count": 5,
     "metadata": {},
     "output_type": "execute_result"
    }
   ],
   "source": [
    "client['bijidata']#查看某一个数据库"
   ]
  },
  {
   "cell_type": "code",
   "execution_count": 85,
   "metadata": {},
   "outputs": [
    {
     "ename": "TypeError",
     "evalue": "'Collection' object is not callable. If you meant to call the 'find_one' method on a 'Database' object it is failing because no such method exists.",
     "output_type": "error",
     "traceback": [
      "\u001b[1;31m---------------------------------------------------------------------------\u001b[0m",
      "\u001b[1;31mTypeError\u001b[0m                                 Traceback (most recent call last)",
      "\u001b[1;32m<ipython-input-85-83d6eb1ca6e2>\u001b[0m in \u001b[0;36m<module>\u001b[1;34m\u001b[0m\n\u001b[1;32m----> 1\u001b[1;33m \u001b[0mclient\u001b[0m\u001b[1;33m[\u001b[0m\u001b[1;34m'local'\u001b[0m\u001b[1;33m]\u001b[0m\u001b[1;33m.\u001b[0m\u001b[0mfind_one\u001b[0m\u001b[1;33m(\u001b[0m\u001b[1;33m)\u001b[0m\u001b[1;31m#查找数据库的某一条数据\u001b[0m\u001b[1;33m\u001b[0m\u001b[1;33m\u001b[0m\u001b[0m\n\u001b[0m",
      "\u001b[1;32mD:\\anaconda3\\lib\\site-packages\\pymongo\\collection.py\u001b[0m in \u001b[0;36m__call__\u001b[1;34m(self, *args, **kwargs)\u001b[0m\n\u001b[0;32m   3337\u001b[0m                             \u001b[1;34m\"object it is failing because no such method \"\u001b[0m\u001b[1;33m\u001b[0m\u001b[1;33m\u001b[0m\u001b[0m\n\u001b[0;32m   3338\u001b[0m                             \u001b[1;34m\"exists.\"\u001b[0m \u001b[1;33m%\u001b[0m\u001b[1;33m\u001b[0m\u001b[1;33m\u001b[0m\u001b[0m\n\u001b[1;32m-> 3339\u001b[1;33m                             self.__name)\n\u001b[0m\u001b[0;32m   3340\u001b[0m         raise TypeError(\"'Collection' object is not callable. If you meant to \"\n\u001b[0;32m   3341\u001b[0m                         \u001b[1;34m\"call the '%s' method on a 'Collection' object it is \"\u001b[0m\u001b[1;33m\u001b[0m\u001b[1;33m\u001b[0m\u001b[0m\n",
      "\u001b[1;31mTypeError\u001b[0m: 'Collection' object is not callable. If you meant to call the 'find_one' method on a 'Database' object it is failing because no such method exists."
     ]
    }
   ],
   "source": [
    "client['local'].find_one()#查找数据库的某一条数据"
   ]
  },
  {
   "cell_type": "code",
   "execution_count": 136,
   "metadata": {},
   "outputs": [],
   "source": [
    "client['admin']['company_message'].drop()#删除整个表"
   ]
  },
  {
   "cell_type": "code",
   "execution_count": 8,
   "metadata": {},
   "outputs": [
    {
     "name": "stderr",
     "output_type": "stream",
     "text": [
      "D:\\anaconda3\\lib\\site-packages\\ipykernel_launcher.py:1: DeprecationWarning: count is deprecated. Use Collection.count_documents instead.\n",
      "  \"\"\"Entry point for launching an IPython kernel.\n"
     ]
    },
    {
     "data": {
      "text/plain": [
       "1"
      ]
     },
     "execution_count": 8,
     "metadata": {},
     "output_type": "execute_result"
    }
   ],
   "source": [
    "client['bijidata']['bi_ji'].find().count()#查看某个表里一共有多少记录"
   ]
  },
  {
   "cell_type": "code",
   "execution_count": 9,
   "metadata": {},
   "outputs": [
    {
     "name": "stderr",
     "output_type": "stream",
     "text": [
      "D:\\anaconda3\\lib\\site-packages\\ipykernel_launcher.py:1: DeprecationWarning: count is deprecated. Use Collection.count_documents instead.\n",
      "  \"\"\"Entry point for launching an IPython kernel.\n"
     ]
    },
    {
     "data": {
      "text/plain": [
       "0"
      ]
     },
     "execution_count": 9,
     "metadata": {},
     "output_type": "execute_result"
    }
   ],
   "source": [
    "client['bijidata'].collection.find().count()"
   ]
  },
  {
   "cell_type": "markdown",
   "metadata": {},
   "source": [
    "## 使用"
   ]
  },
  {
   "cell_type": "code",
   "execution_count": 14,
   "metadata": {},
   "outputs": [],
   "source": [
    "db=client['bijidata']"
   ]
  },
  {
   "cell_type": "code",
   "execution_count": 15,
   "metadata": {},
   "outputs": [],
   "source": [
    "bijidata_collection= db['bi_ji']#在某一个数据库里创建一个表"
   ]
  },
  {
   "cell_type": "code",
   "execution_count": 16,
   "metadata": {},
   "outputs": [
    {
     "data": {
      "text/plain": [
       "Collection(Database(MongoClient(host=['localhost:27017'], document_class=dict, tz_aware=False, connect=True), 'bijidata'), 'bi_ji')"
      ]
     },
     "execution_count": 16,
     "metadata": {},
     "output_type": "execute_result"
    }
   ],
   "source": [
    "bijidata_collection"
   ]
  },
  {
   "cell_type": "code",
   "execution_count": 19,
   "metadata": {},
   "outputs": [
    {
     "name": "stdout",
     "output_type": "stream",
     "text": [
      "[{'id': 0, 'url': 'https://docs.qq.com/doc/DREhRcUFFeXVYVHRu'}]\n"
     ]
    }
   ],
   "source": [
    "with open('a.txt','r',encoding='utf-8') as f:\n",
    "    i=0\n",
    "    ls=[]\n",
    "    for line in f:\n",
    "        arr= line.split(',')\n",
    "        ls.append({\"id\":i,\"url\":arr[0]})\n",
    "        i+=1\n",
    "        print(ls)\n",
    "    bijidata_collection.insert_many(ls)#一次插入多行\n",
    "#     print(len(ls))"
   ]
  },
  {
   "cell_type": "code",
   "execution_count": 17,
   "metadata": {},
   "outputs": [
    {
     "name": "stderr",
     "output_type": "stream",
     "text": [
      "D:\\anaconda3\\lib\\site-packages\\ipykernel_launcher.py:1: DeprecationWarning: count is deprecated. Use Collection.count_documents instead.\n",
      "  \"\"\"Entry point for launching an IPython kernel.\n"
     ]
    },
    {
     "data": {
      "text/plain": [
       "1"
      ]
     },
     "execution_count": 17,
     "metadata": {},
     "output_type": "execute_result"
    }
   ],
   "source": [
    "bijidata_collection.find().count()"
   ]
  },
  {
   "cell_type": "markdown",
   "metadata": {},
   "source": [
    "### 查询数据 翻页"
   ]
  },
  {
   "cell_type": "code",
   "execution_count": 19,
   "metadata": {},
   "outputs": [
    {
     "data": {
      "text/plain": [
       "[{'_id': ObjectId('5ef33ddb64adc190cebde173'),\n",
       "  'id': 0,\n",
       "  'url': 'https://docs.qq.com/doc/DREhRcUFFeXVYVHRu'}]"
      ]
     },
     "execution_count": 19,
     "metadata": {},
     "output_type": "execute_result"
    }
   ],
   "source": [
    "list(bijidata_collection.find().limit(10))"
   ]
  },
  {
   "cell_type": "code",
   "execution_count": 152,
   "metadata": {},
   "outputs": [
    {
     "data": {
      "text/plain": [
       "[{'_id': ObjectId('5ef1aff413fcc4e9ed5658b1'),\n",
       "  'id': 10,\n",
       "  'url': 'http://img.doutula.com/production/uploads/image/2020/05/17/20200517692325_jlWzbm.jpg'},\n",
       " {'_id': ObjectId('5ef1aff413fcc4e9ed5658b2'),\n",
       "  'id': 11,\n",
       "  'url': 'http://img.doutula.com/production/uploads/image/2020/05/17/20200517692326_jgDQcq.jpg'},\n",
       " {'_id': ObjectId('5ef1aff413fcc4e9ed5658b3'),\n",
       "  'id': 12,\n",
       "  'url': 'http://img.doutula.com/production/uploads/image/2020/05/17/20200517692325_NGumXK.jpg'},\n",
       " {'_id': ObjectId('5ef1aff413fcc4e9ed5658b4'),\n",
       "  'id': 13,\n",
       "  'url': 'http://img.doutula.com/production/uploads/image/2020/05/17/20200517692325_zfqBOs.png'},\n",
       " {'_id': ObjectId('5ef1aff413fcc4e9ed5658b5'),\n",
       "  'id': 14,\n",
       "  'url': 'http://img.doutula.com/production/uploads/image/2020/05/17/20200517692325_tDBXSm.jpg'},\n",
       " {'_id': ObjectId('5ef1aff413fcc4e9ed5658b6'),\n",
       "  'id': 15,\n",
       "  'url': 'http://img.doutula.com/production/uploads/image/2020/05/17/20200517692324_YWNKuE.jpg'},\n",
       " {'_id': ObjectId('5ef1aff413fcc4e9ed5658b7'),\n",
       "  'id': 16,\n",
       "  'url': 'http://img.doutula.com/production/uploads/image/2020/05/17/20200517692324_anVPio.jpg'},\n",
       " {'_id': ObjectId('5ef1aff413fcc4e9ed5658b8'),\n",
       "  'id': 17,\n",
       "  'url': 'http://img.doutula.com/production/uploads/image/2020/05/17/20200517692324_RegQkw.null'},\n",
       " {'_id': ObjectId('5ef1aff413fcc4e9ed5658b9'),\n",
       "  'id': 18,\n",
       "  'url': 'http://img.doutula.com/production/uploads/image/2020/05/17/20200517692323_EZDwgv.jpg'},\n",
       " {'_id': ObjectId('5ef1aff413fcc4e9ed5658ba'),\n",
       "  'id': 19,\n",
       "  'url': 'http://img.doutula.com/production/uploads/image/2020/05/17/20200517692323_UFwlRC.jpg'}]"
      ]
     },
     "execution_count": 152,
     "metadata": {},
     "output_type": "execute_result"
    }
   ],
   "source": [
    "list(doutu_img_collection.find().skip(10).limit(10))#跳过前10个查询10个"
   ]
  },
  {
   "cell_type": "code",
   "execution_count": 73,
   "metadata": {},
   "outputs": [],
   "source": [
    "def page_query(page=1,limit=20,table='AI_img'):\n",
    "    collection=db[table]\n",
    "    return list(collection.find().skip((page-1)*limit).limit(limit))#翻页"
   ]
  },
  {
   "cell_type": "code",
   "execution_count": 74,
   "metadata": {},
   "outputs": [
    {
     "data": {
      "text/plain": [
       "[{'_id': ObjectId('5ef16ddf13fcc4e9ed548e0c'),\n",
       "  'id': 40,\n",
       "  'url': 'https://static.geetest.com/nerualpic/word_l1_zh_2020.03.16/abstract/249d9b0148320a3da075e5b3da0bc51d.jpg'},\n",
       " {'_id': ObjectId('5ef16ddf13fcc4e9ed548e0d'),\n",
       "  'id': 41,\n",
       "  'url': 'https://static.geetest.com/nerualpic/word_l1_zh_2020.03.16/owl/3903e3dae4961334479fa0ac5512ceef.jpg'},\n",
       " {'_id': ObjectId('5ef16ddf13fcc4e9ed548e0e'),\n",
       "  'id': 42,\n",
       "  'url': 'https://static.geetest.com/nerualpic/word_l1_zh_2020.03.16/abstract/e49cdcabda1c37054e9c4ae0d183adeb.jpg'},\n",
       " {'_id': ObjectId('5ef16ddf13fcc4e9ed548e0f'),\n",
       "  'id': 43,\n",
       "  'url': 'https://static.geetest.com/nerualpic/word_l1_zh_2020.03.16/girl2/7388e284a80ab7918e8c652447fd5c0f.jpg'},\n",
       " {'_id': ObjectId('5ef16ddf13fcc4e9ed548e10'),\n",
       "  'id': 44,\n",
       "  'url': 'https://static.geetest.com/nerualpic/word_l1_zh_2020.03.16/abstract/d854f9c040c559463e53359f2df11308.jpg'},\n",
       " {'_id': ObjectId('5ef16ddf13fcc4e9ed548e11'),\n",
       "  'id': 45,\n",
       "  'url': 'https://static.geetest.com/nerualpic/word_l1_zh_2020.03.16/harley1/4a3c6cab6133754e8b5f23cf61ff76ac.jpg'},\n",
       " {'_id': ObjectId('5ef16ddf13fcc4e9ed548e12'),\n",
       "  'id': 46,\n",
       "  'url': 'https://static.geetest.com/nerualpic/word_l1_zh_2020.03.16/owl/de87b0b29d2284a791c3110fce2823b0.jpg'},\n",
       " {'_id': ObjectId('5ef16ddf13fcc4e9ed548e13'),\n",
       "  'id': 47,\n",
       "  'url': 'https://static.geetest.com/nerualpic/word_l1_zh_2020.03.16/owl/d039a54739051bcb5f31f268d3615c4c.jpg'},\n",
       " {'_id': ObjectId('5ef16ddf13fcc4e9ed548e14'),\n",
       "  'id': 48,\n",
       "  'url': 'https://static.geetest.com/nerualpic/word_l1_zh_2020.03.16/abstract/7d15cf5de7b33acf6e0f2774d099a520.jpg'},\n",
       " {'_id': ObjectId('5ef16ddf13fcc4e9ed548e15'),\n",
       "  'id': 49,\n",
       "  'url': 'https://static.geetest.com/nerualpic/word_l1_zh_2020.03.16/abstract/346137491648fc5c0ea336b84ada344b.jpg'},\n",
       " {'_id': ObjectId('5ef16ddf13fcc4e9ed548e16'),\n",
       "  'id': 50,\n",
       "  'url': 'https://static.geetest.com/nerualpic/word_l1_zh_2020.03.16/harley1/a51c63f3f9cdea25ee6abbe4eb74acda.jpg'},\n",
       " {'_id': ObjectId('5ef16ddf13fcc4e9ed548e17'),\n",
       "  'id': 51,\n",
       "  'url': 'https://static.geetest.com/nerualpic/word_l1_zh_2020.03.16/harley1/ccc29f2783024df43e01e83e980a4eb3.jpg'},\n",
       " {'_id': ObjectId('5ef16ddf13fcc4e9ed548e18'),\n",
       "  'id': 52,\n",
       "  'url': 'https://static.geetest.com/nerualpic/word_l1_zh_2020.03.16/cubism6/a55cf8ad0b3c4645e4d11071c05fab92.jpg'},\n",
       " {'_id': ObjectId('5ef16ddf13fcc4e9ed548e19'),\n",
       "  'id': 53,\n",
       "  'url': 'https://static.geetest.com/nerualpic/word_l1_zh_2020.03.16/harley1/4ee2d6463e19a5c9931057e3e29bc536.jpg'},\n",
       " {'_id': ObjectId('5ef16ddf13fcc4e9ed548e1a'),\n",
       "  'id': 54,\n",
       "  'url': 'https://static.geetest.com/nerualpic/word_l1_zh_2020.03.16/cubism6/0eb55bb4bbe9fd4e0d9480da9c88afd8.jpg'},\n",
       " {'_id': ObjectId('5ef16ddf13fcc4e9ed548e1b'),\n",
       "  'id': 55,\n",
       "  'url': 'https://static.geetest.com/nerualpic/word_l1_zh_2020.03.16/girl2/48d590b18f21fec5a23931db9d92b93c.jpg'},\n",
       " {'_id': ObjectId('5ef16ddf13fcc4e9ed548e1c'),\n",
       "  'id': 56,\n",
       "  'url': 'https://static.geetest.com/nerualpic/word_l1_zh_2020.03.16/cubism6/bb1e88e42b80a2bbcd692a481de5d348.jpg'},\n",
       " {'_id': ObjectId('5ef16ddf13fcc4e9ed548e1d'),\n",
       "  'id': 57,\n",
       "  'url': 'https://static.geetest.com/nerualpic/word_l1_zh_2020.03.16/abstract/f02282aab7715370ede7c99d2e98df0c.jpg'},\n",
       " {'_id': ObjectId('5ef16ddf13fcc4e9ed548e1e'),\n",
       "  'id': 58,\n",
       "  'url': 'https://static.geetest.com/nerualpic/word_l1_zh_2020.03.16/owl/62993a3c9ec9df1ff9472828d04b14d7.jpg'},\n",
       " {'_id': ObjectId('5ef16ddf13fcc4e9ed548e1f'),\n",
       "  'id': 59,\n",
       "  'url': 'https://static.geetest.com/nerualpic/word_l1_zh_2020.03.16/girl2/72c75c39882df76f67d0c40e267b42f5.jpg'}]"
      ]
     },
     "execution_count": 74,
     "metadata": {},
     "output_type": "execute_result"
    }
   ],
   "source": [
    "page_query(page=3)"
   ]
  },
  {
   "cell_type": "markdown",
   "metadata": {},
   "source": [
    "## Flask后端"
   ]
  },
  {
   "cell_type": "code",
   "execution_count": 2,
   "metadata": {},
   "outputs": [],
   "source": [
    "from flask import Flask\n",
    "from flask import request"
   ]
  },
  {
   "cell_type": "code",
   "execution_count": 3,
   "metadata": {},
   "outputs": [],
   "source": [
    "web = Flask(__name__)"
   ]
  },
  {
   "cell_type": "code",
   "execution_count": 4,
   "metadata": {},
   "outputs": [],
   "source": [
    "@web.route('/')#定义路径\n",
    "def hello_world():\n",
    "    return \"hello world\""
   ]
  },
  {
   "cell_type": "markdown",
   "metadata": {},
   "source": [
    "### 定义资源"
   ]
  },
  {
   "cell_type": "code",
   "execution_count": 5,
   "metadata": {},
   "outputs": [
    {
     "name": "stdout",
     "output_type": "stream",
     "text": [
      " * Serving Flask app \"__main__\" (lazy loading)\n",
      " * Environment: production\n",
      "   WARNING: This is a development server. Do not use it in a production deployment.\n",
      "   Use a production WSGI server instead.\n",
      " * Debug mode: off\n"
     ]
    },
    {
     "name": "stderr",
     "output_type": "stream",
     "text": [
      " * Running on http://127.0.0.1:5000/ (Press CTRL+C to quit)\n",
      "127.0.0.1 - - [21/Jun/2020 01:58:23] \"\u001b[37mGET / HTTP/1.1\u001b[0m\" 200 -\n"
     ]
    }
   ],
   "source": [
    "web.run()"
   ]
  },
  {
   "cell_type": "code",
   "execution_count": 7,
   "metadata": {},
   "outputs": [
    {
     "ename": "AssertionError",
     "evalue": "View function mapping is overwriting an existing endpoint function: hello_world1",
     "output_type": "error",
     "traceback": [
      "\u001b[1;31m---------------------------------------------------------------------------\u001b[0m",
      "\u001b[1;31mAssertionError\u001b[0m                            Traceback (most recent call last)",
      "\u001b[1;32m<ipython-input-7-b7e9aeaba459>\u001b[0m in \u001b[0;36m<module>\u001b[1;34m\u001b[0m\n\u001b[1;32m----> 1\u001b[1;33m \u001b[1;33m@\u001b[0m\u001b[0mweb\u001b[0m\u001b[1;33m.\u001b[0m\u001b[0mroute\u001b[0m\u001b[1;33m(\u001b[0m\u001b[1;34m'/qqyu.html'\u001b[0m\u001b[1;33m)\u001b[0m\u001b[1;31m#定义路径\u001b[0m\u001b[1;33m\u001b[0m\u001b[1;33m\u001b[0m\u001b[0m\n\u001b[0m\u001b[0;32m      2\u001b[0m \u001b[1;32mdef\u001b[0m \u001b[0mhello_world1\u001b[0m\u001b[1;33m(\u001b[0m\u001b[1;33m)\u001b[0m\u001b[1;33m:\u001b[0m\u001b[1;33m\u001b[0m\u001b[1;33m\u001b[0m\u001b[0m\n\u001b[0;32m      3\u001b[0m     \u001b[0mpage\u001b[0m\u001b[1;33m=\u001b[0m\u001b[0mint\u001b[0m\u001b[1;33m(\u001b[0m\u001b[0mrequest\u001b[0m\u001b[1;33m.\u001b[0m\u001b[0margs\u001b[0m\u001b[1;33m.\u001b[0m\u001b[0mget\u001b[0m\u001b[1;33m(\u001b[0m\u001b[1;34m'page'\u001b[0m\u001b[1;33m,\u001b[0m\u001b[1;34m'1'\u001b[0m\u001b[1;33m)\u001b[0m\u001b[1;33m)\u001b[0m\u001b[1;33m\u001b[0m\u001b[1;33m\u001b[0m\u001b[0m\n\u001b[0;32m      4\u001b[0m     \u001b[0mlimit\u001b[0m\u001b[1;33m=\u001b[0m\u001b[0mint\u001b[0m\u001b[1;33m(\u001b[0m\u001b[0mrequest\u001b[0m\u001b[1;33m.\u001b[0m\u001b[0margs\u001b[0m\u001b[1;33m.\u001b[0m\u001b[0mget\u001b[0m\u001b[1;33m(\u001b[0m\u001b[1;34m'limit'\u001b[0m\u001b[1;33m,\u001b[0m\u001b[1;34m'20'\u001b[0m\u001b[1;33m)\u001b[0m\u001b[1;33m)\u001b[0m\u001b[1;33m\u001b[0m\u001b[1;33m\u001b[0m\u001b[0m\n\u001b[0;32m      5\u001b[0m     \u001b[1;32mreturn\u001b[0m \u001b[1;34m\"<h2>hello world</h1>\"\u001b[0m\u001b[1;33m*\u001b[0m\u001b[0mlimit\u001b[0m\u001b[1;33m\u001b[0m\u001b[1;33m\u001b[0m\u001b[0m\n",
      "\u001b[1;32mD:\\anaconda3\\lib\\site-packages\\flask\\app.py\u001b[0m in \u001b[0;36mdecorator\u001b[1;34m(f)\u001b[0m\n\u001b[0;32m   1312\u001b[0m         \u001b[1;32mdef\u001b[0m \u001b[0mdecorator\u001b[0m\u001b[1;33m(\u001b[0m\u001b[0mf\u001b[0m\u001b[1;33m)\u001b[0m\u001b[1;33m:\u001b[0m\u001b[1;33m\u001b[0m\u001b[1;33m\u001b[0m\u001b[0m\n\u001b[0;32m   1313\u001b[0m             \u001b[0mendpoint\u001b[0m \u001b[1;33m=\u001b[0m \u001b[0moptions\u001b[0m\u001b[1;33m.\u001b[0m\u001b[0mpop\u001b[0m\u001b[1;33m(\u001b[0m\u001b[1;34m\"endpoint\"\u001b[0m\u001b[1;33m,\u001b[0m \u001b[1;32mNone\u001b[0m\u001b[1;33m)\u001b[0m\u001b[1;33m\u001b[0m\u001b[1;33m\u001b[0m\u001b[0m\n\u001b[1;32m-> 1314\u001b[1;33m             \u001b[0mself\u001b[0m\u001b[1;33m.\u001b[0m\u001b[0madd_url_rule\u001b[0m\u001b[1;33m(\u001b[0m\u001b[0mrule\u001b[0m\u001b[1;33m,\u001b[0m \u001b[0mendpoint\u001b[0m\u001b[1;33m,\u001b[0m \u001b[0mf\u001b[0m\u001b[1;33m,\u001b[0m \u001b[1;33m**\u001b[0m\u001b[0moptions\u001b[0m\u001b[1;33m)\u001b[0m\u001b[1;33m\u001b[0m\u001b[1;33m\u001b[0m\u001b[0m\n\u001b[0m\u001b[0;32m   1315\u001b[0m             \u001b[1;32mreturn\u001b[0m \u001b[0mf\u001b[0m\u001b[1;33m\u001b[0m\u001b[1;33m\u001b[0m\u001b[0m\n\u001b[0;32m   1316\u001b[0m \u001b[1;33m\u001b[0m\u001b[0m\n",
      "\u001b[1;32mD:\\anaconda3\\lib\\site-packages\\flask\\app.py\u001b[0m in \u001b[0;36mwrapper_func\u001b[1;34m(self, *args, **kwargs)\u001b[0m\n\u001b[0;32m     96\u001b[0m                 \u001b[1;34m\"before the application starts serving requests.\"\u001b[0m\u001b[1;33m\u001b[0m\u001b[1;33m\u001b[0m\u001b[0m\n\u001b[0;32m     97\u001b[0m             )\n\u001b[1;32m---> 98\u001b[1;33m         \u001b[1;32mreturn\u001b[0m \u001b[0mf\u001b[0m\u001b[1;33m(\u001b[0m\u001b[0mself\u001b[0m\u001b[1;33m,\u001b[0m \u001b[1;33m*\u001b[0m\u001b[0margs\u001b[0m\u001b[1;33m,\u001b[0m \u001b[1;33m**\u001b[0m\u001b[0mkwargs\u001b[0m\u001b[1;33m)\u001b[0m\u001b[1;33m\u001b[0m\u001b[1;33m\u001b[0m\u001b[0m\n\u001b[0m\u001b[0;32m     99\u001b[0m \u001b[1;33m\u001b[0m\u001b[0m\n\u001b[0;32m    100\u001b[0m     \u001b[1;32mreturn\u001b[0m \u001b[0mupdate_wrapper\u001b[0m\u001b[1;33m(\u001b[0m\u001b[0mwrapper_func\u001b[0m\u001b[1;33m,\u001b[0m \u001b[0mf\u001b[0m\u001b[1;33m)\u001b[0m\u001b[1;33m\u001b[0m\u001b[1;33m\u001b[0m\u001b[0m\n",
      "\u001b[1;32mD:\\anaconda3\\lib\\site-packages\\flask\\app.py\u001b[0m in \u001b[0;36madd_url_rule\u001b[1;34m(self, rule, endpoint, view_func, provide_automatic_options, **options)\u001b[0m\n\u001b[0;32m   1281\u001b[0m                 raise AssertionError(\n\u001b[0;32m   1282\u001b[0m                     \u001b[1;34m\"View function mapping is overwriting an \"\u001b[0m\u001b[1;33m\u001b[0m\u001b[1;33m\u001b[0m\u001b[0m\n\u001b[1;32m-> 1283\u001b[1;33m                     \u001b[1;34m\"existing endpoint function: %s\"\u001b[0m \u001b[1;33m%\u001b[0m \u001b[0mendpoint\u001b[0m\u001b[1;33m\u001b[0m\u001b[1;33m\u001b[0m\u001b[0m\n\u001b[0m\u001b[0;32m   1284\u001b[0m                 )\n\u001b[0;32m   1285\u001b[0m             \u001b[0mself\u001b[0m\u001b[1;33m.\u001b[0m\u001b[0mview_functions\u001b[0m\u001b[1;33m[\u001b[0m\u001b[0mendpoint\u001b[0m\u001b[1;33m]\u001b[0m \u001b[1;33m=\u001b[0m \u001b[0mview_func\u001b[0m\u001b[1;33m\u001b[0m\u001b[1;33m\u001b[0m\u001b[0m\n",
      "\u001b[1;31mAssertionError\u001b[0m: View function mapping is overwriting an existing endpoint function: hello_world1"
     ]
    }
   ],
   "source": [
    "@web.route('/qqyu.html')#定义路径\n",
    "def hello_world1():\n",
    "    page=int(request.args.get('page','1'))\n",
    "    limit=int(request.args.get('limit','20'))\n",
    "    return \"<h2>hello world</h1>\"*limit"
   ]
  },
  {
   "cell_type": "markdown",
   "metadata": {},
   "source": [
    "## 综合案例"
   ]
  },
  {
   "cell_type": "code",
   "execution_count": 1,
   "metadata": {},
   "outputs": [],
   "source": [
    "from pymongo import MongoClient\n",
    "from flask import Flask\n",
    "from flask import request\n",
    "import json\n",
    "from bson import ObjectId\n",
    "from json import dumps\n",
    "from flask_cors import CORS"
   ]
  },
  {
   "cell_type": "code",
   "execution_count": 2,
   "metadata": {},
   "outputs": [],
   "source": [
    "#对象处理\n",
    "class JSONEncoder(json.JSONEncoder):\n",
    "    def default(self,o):\n",
    "        if isinstance(o,ObjectId):\n",
    "            return str(o)\n",
    "        return json.JSONEncoder.default(self,o)"
   ]
  },
  {
   "cell_type": "code",
   "execution_count": 3,
   "metadata": {},
   "outputs": [
    {
     "ename": "NameError",
     "evalue": "name 'web' is not defined",
     "output_type": "error",
     "traceback": [
      "\u001b[1;31m---------------------------------------------------------------------------\u001b[0m",
      "\u001b[1;31mNameError\u001b[0m                                 Traceback (most recent call last)",
      "\u001b[1;32m<ipython-input-3-fcee2751fa3b>\u001b[0m in \u001b[0;36m<module>\u001b[1;34m\u001b[0m\n\u001b[1;32m----> 1\u001b[1;33m \u001b[1;33m@\u001b[0m\u001b[0mweb\u001b[0m\u001b[1;33m.\u001b[0m\u001b[0mafter_request\u001b[0m\u001b[1;33m\u001b[0m\u001b[1;33m\u001b[0m\u001b[0m\n\u001b[0m\u001b[0;32m      2\u001b[0m \u001b[1;32mdef\u001b[0m \u001b[0maf_request\u001b[0m\u001b[1;33m(\u001b[0m\u001b[0mresp\u001b[0m\u001b[1;33m)\u001b[0m\u001b[1;33m:\u001b[0m\u001b[1;33m\u001b[0m\u001b[1;33m\u001b[0m\u001b[0m\n\u001b[0;32m      3\u001b[0m     \u001b[0mresp\u001b[0m\u001b[1;33m=\u001b[0m\u001b[0mmake_response\u001b[0m\u001b[1;33m(\u001b[0m\u001b[0mresp\u001b[0m\u001b[1;33m)\u001b[0m\u001b[1;31m#需要导入一些函数\u001b[0m\u001b[1;33m\u001b[0m\u001b[1;33m\u001b[0m\u001b[0m\n\u001b[0;32m      4\u001b[0m     \u001b[0mresp\u001b[0m\u001b[1;33m.\u001b[0m\u001b[0mheaders\u001b[0m\u001b[1;33m[\u001b[0m\u001b[1;34m'Access-Control-Allow-Origin'\u001b[0m\u001b[1;33m]\u001b[0m\u001b[1;33m=\u001b[0m\u001b[1;34m'*'\u001b[0m\u001b[1;33m\u001b[0m\u001b[1;33m\u001b[0m\u001b[0m\n\u001b[0;32m      5\u001b[0m     \u001b[0mresp\u001b[0m\u001b[1;33m.\u001b[0m\u001b[0mheaders\u001b[0m\u001b[1;33m[\u001b[0m\u001b[1;34m'Access-Control-Allow-Methods'\u001b[0m\u001b[1;33m]\u001b[0m\u001b[1;33m=\u001b[0m\u001b[1;34m'GET'\u001b[0m\u001b[1;33m\u001b[0m\u001b[1;33m\u001b[0m\u001b[0m\n",
      "\u001b[1;31mNameError\u001b[0m: name 'web' is not defined"
     ]
    }
   ],
   "source": [
    "@web.after_request\n",
    "def af_request(resp):\n",
    "    resp=make_response(resp)#需要导入一些函数\n",
    "    resp.headers['Access-Control-Allow-Origin']='*'\n",
    "    resp.headers['Access-Control-Allow-Methods']='GET'\n",
    "    resp.headers['Access-Control-Allow-Headers']='x-requested-with,content-type'\n",
    "    return resp"
   ]
  },
  {
   "cell_type": "code",
   "execution_count": 9,
   "metadata": {},
   "outputs": [],
   "source": [
    "web = Flask(__name__)\n",
    "CORS(web,supports_credentials=True)\n",
    "client = MongoClient()\n",
    "db=client['local']\n",
    "db1=client['config']\n",
    "db2=client['admin']\n",
    "db3=client['bijidata']\n",
    "#启动数据库并读取数据库中的表"
   ]
  },
  {
   "cell_type": "code",
   "execution_count": 10,
   "metadata": {},
   "outputs": [],
   "source": [
    "def page_query(page=1,limit=20,table='AI_img'):\n",
    "    collection=db[table]\n",
    "    return list(collection.find().skip((page-1)*limit).limit(limit))#翻页\n",
    "#创建翻页函数\n",
    "def page_query1(page=1,limit=20,table='doutu_img'):\n",
    "    collection=db1[table]\n",
    "    return list(collection.find().skip((page-1)*limit).limit(limit))#翻页\n",
    "def page_query2(page=1,limit=20,table='company_message'):\n",
    "    collection=db2[table]\n",
    "    return list(collection.find().skip((page-1)*limit).limit(limit))#翻页\n",
    "def page_query3(page=1,limit=20,table='bi_ji'):\n",
    "    collection=db3[table]\n",
    "    return list(collection.find().skip((page-1)*limit).limit(limit))#翻页"
   ]
  },
  {
   "cell_type": "code",
   "execution_count": 11,
   "metadata": {},
   "outputs": [],
   "source": [
    "def page_count(table):\n",
    "    '''获取总页数'''\n",
    "    collection=db[table]\n",
    "    return collection.find().count()\n",
    "def page_count1(table):\n",
    "    '''获取总页数'''\n",
    "    collection=db1[table]\n",
    "    return collection.find().count()\n",
    "def page_count2(table):\n",
    "    '''获取总页数'''\n",
    "    collection=db2[table]\n",
    "    return collection.find().count()\n",
    "def page_count3(table):\n",
    "    '''获取总页数'''\n",
    "    collection=db3[table]\n",
    "    return collection.find().count()\n",
    "# page_count1('doutu_img')"
   ]
  },
  {
   "cell_type": "code",
   "execution_count": 12,
   "metadata": {},
   "outputs": [],
   "source": [
    "@web.route('/AI_img')#定义路径\n",
    "def AI_img():\n",
    "    page=int(request.args.get('page','1'))\n",
    "    limit=int(request.args.get('limit','20'))\n",
    "    table='AI_img'\n",
    "    data=page_query(page=page,limit=limit,table=table)\n",
    "    response_data={\"code\":0,\"msg\":\"\",\"count\":page_count(table),\"data\":data}\n",
    "    return dumps(response_data,cls=JSONEncoder)\n",
    "@web.route('/doutu_img')#定义路径\n",
    "def doutu_img():\n",
    "    page=int(request.args.get('page','1'))\n",
    "    limit=int(request.args.get('limit','20'))\n",
    "    table='doutu_img'\n",
    "    data=page_query1(page=page,limit=limit,table=table)\n",
    "    response_data={\"code\":0,\"msg\":\"\",\"count\":page_count1(table),\"data\":data}\n",
    "    return dumps(response_data,cls=JSONEncoder)\n",
    "@web.route('/company_message')#定义路径\n",
    "def company_message():\n",
    "    page=int(request.args.get('page','1'))\n",
    "    limit=int(request.args.get('limit','20'))\n",
    "    table='company_message'\n",
    "    data=page_query2(page=page,limit=limit,table=table)\n",
    "    response_data={\"code\":0,\"msg\":\"\",\"count\":page_count2(table),\"data\":data}\n",
    "    return dumps(response_data,cls=JSONEncoder)\n",
    "@web.route('/bi_ji')#定义路径\n",
    "def bi_ji():\n",
    "    page=int(request.args.get('page','1'))\n",
    "    limit=int(request.args.get('limit','20'))\n",
    "    table='bi_ji'\n",
    "    data=page_query3(page=page,limit=limit,table=table)\n",
    "    response_data={\"code\":0,\"msg\":\"\",\"count\":page_count3(table),\"data\":data}\n",
    "    return dumps(response_data,cls=JSONEncoder)\n",
    "#创建翻页请求"
   ]
  },
  {
   "cell_type": "code",
   "execution_count": null,
   "metadata": {
    "scrolled": true
   },
   "outputs": [
    {
     "name": "stdout",
     "output_type": "stream",
     "text": [
      " * Serving Flask app \"__main__\" (lazy loading)\n",
      " * Environment: production\n",
      "   WARNING: This is a development server. Do not use it in a production deployment.\n",
      "   Use a production WSGI server instead.\n",
      " * Debug mode: off\n"
     ]
    },
    {
     "name": "stderr",
     "output_type": "stream",
     "text": [
      " * Running on http://127.0.0.1:5000/ (Press CTRL+C to quit)\n",
      "D:\\anaconda3\\lib\\site-packages\\ipykernel_launcher.py:12: DeprecationWarning: count is deprecated. Use Collection.count_documents instead.\n",
      "  if sys.path[0] == '':\n",
      "127.0.0.1 - - [24/Jun/2020 20:07:08] \"\u001b[37mGET /company_message?page=1&limit=20 HTTP/1.1\u001b[0m\" 200 -\n",
      "D:\\anaconda3\\lib\\site-packages\\ipykernel_launcher.py:16: DeprecationWarning: count is deprecated. Use Collection.count_documents instead.\n",
      "  app.launch_new_instance()\n",
      "127.0.0.1 - - [24/Jun/2020 20:07:09] \"\u001b[37mGET /bi_ji?page=1&limit=20 HTTP/1.1\u001b[0m\" 200 -\n",
      "127.0.0.1 - - [24/Jun/2020 20:07:15] \"\u001b[37mGET /bi_ji?page=1&limit=20 HTTP/1.1\u001b[0m\" 200 -\n",
      "127.0.0.1 - - [24/Jun/2020 20:31:53] \"\u001b[37mGET /company_message?page=1&limit=20 HTTP/1.1\u001b[0m\" 200 -\n",
      "127.0.0.1 - - [24/Jun/2020 20:33:27] \"\u001b[37mGET /company_message?page=1&limit=20 HTTP/1.1\u001b[0m\" 200 -\n",
      "127.0.0.1 - - [24/Jun/2020 20:33:32] \"\u001b[37mGET /company_message?page=3&limit=20 HTTP/1.1\u001b[0m\" 200 -\n",
      "127.0.0.1 - - [24/Jun/2020 20:33:41] \"\u001b[37mGET /company_message?page=2&limit=20 HTTP/1.1\u001b[0m\" 200 -\n",
      "127.0.0.1 - - [24/Jun/2020 20:33:54] \"\u001b[37mGET /company_message?page=3&limit=20 HTTP/1.1\u001b[0m\" 200 -\n",
      "D:\\anaconda3\\lib\\site-packages\\ipykernel_launcher.py:8: DeprecationWarning: count is deprecated. Use Collection.count_documents instead.\n",
      "  \n",
      "127.0.0.1 - - [24/Jun/2020 20:49:20] \"\u001b[37mGET /doutu_img?page=1&limit=20 HTTP/1.1\u001b[0m\" 200 -\n",
      "D:\\anaconda3\\lib\\site-packages\\ipykernel_launcher.py:4: DeprecationWarning: count is deprecated. Use Collection.count_documents instead.\n",
      "  after removing the cwd from sys.path.\n",
      "127.0.0.1 - - [24/Jun/2020 20:49:20] \"\u001b[37mGET /AI_img?page=1&limit=20 HTTP/1.1\u001b[0m\" 200 -\n",
      "127.0.0.1 - - [24/Jun/2020 20:49:22] \"\u001b[37mGET /doutu_img?page=1&limit=20 HTTP/1.1\u001b[0m\" 200 -\n",
      "127.0.0.1 - - [24/Jun/2020 20:49:26] \"\u001b[37mGET /AI_img?page=1&limit=20 HTTP/1.1\u001b[0m\" 200 -\n",
      "127.0.0.1 - - [24/Jun/2020 20:49:28] \"\u001b[37mGET /bi_ji?page=1&limit=20 HTTP/1.1\u001b[0m\" 200 -\n",
      "127.0.0.1 - - [24/Jun/2020 20:49:29] \"\u001b[37mGET /AI_img?page=1&limit=20 HTTP/1.1\u001b[0m\" 200 -\n"
     ]
    }
   ],
   "source": [
    "web.run()"
   ]
  },
  {
   "cell_type": "code",
   "execution_count": null,
   "metadata": {},
   "outputs": [],
   "source": [
    "#打开网页要加上/doutu_img?page=1&limit=20"
   ]
  },
  {
   "cell_type": "code",
   "execution_count": null,
   "metadata": {},
   "outputs": [],
   "source": []
  }
 ],
 "metadata": {
  "kernelspec": {
   "display_name": "Python 3",
   "language": "python",
   "name": "python3"
  },
  "language_info": {
   "codemirror_mode": {
    "name": "ipython",
    "version": 3
   },
   "file_extension": ".py",
   "mimetype": "text/x-python",
   "name": "python",
   "nbconvert_exporter": "python",
   "pygments_lexer": "ipython3",
   "version": "3.7.6"
  }
 },
 "nbformat": 4,
 "nbformat_minor": 4
}
